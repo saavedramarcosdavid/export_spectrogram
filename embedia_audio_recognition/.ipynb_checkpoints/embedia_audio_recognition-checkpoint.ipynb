{
 "cells": [
  {
   "cell_type": "markdown",
   "metadata": {},
   "source": [
    "# Embedia Audio Recognition"
   ]
  },
  {
   "cell_type": "code",
   "execution_count": 1,
   "metadata": {
    "scrolled": false
   },
   "outputs": [
    {
     "name": "stdout",
     "output_type": "stream",
     "text": [
      "Continuemos con la generación del futuro\n"
     ]
    }
   ],
   "source": [
    "print('Continuemos con la generación del futuro')"
   ]
  },
  {
   "cell_type": "code",
   "execution_count": 2,
   "metadata": {},
   "outputs": [],
   "source": [
    "import numpy as np\n",
    "from scipy.io import wavfile\n",
    "import os\n",
    "from sklearn.model_selection import train_test_split\n",
    "import tensorflow as tf\n",
    "from librosa import load\n",
    "import sounddevice as sd\n",
    "import matplotlib.pyplot as plt\n",
    "import math\n",
    "import pathlib"
   ]
  },
  {
   "cell_type": "markdown",
   "metadata": {},
   "source": [
    "## Dataset"
   ]
  },
  {
   "cell_type": "code",
   "execution_count": 3,
   "metadata": {},
   "outputs": [
    {
     "name": "stdout",
     "output_type": "stream",
     "text": [
      "Commands: ['no' 'yes']\n",
      "Dataset loaded\n"
     ]
    }
   ],
   "source": [
    "# Cargado del dataset\n",
    "def create_dataset():\n",
    "    y = []\n",
    "    x = []\n",
    "    #PATH = 'data/'\n",
    "    #PATH = 'free_spoken_digit_dataset/recordings/'\n",
    "    #PATH = 'Familia_SMNIST'\n",
    "    #fs, _  = wavfile.read(os.path.join(PATH,os.listdir(PATH)[0]))\n",
    "    fs = 5000\n",
    "\n",
    "\n",
    "    data_dir = pathlib.Path('data/mini_speech_commands')\n",
    "    if not data_dir.exists():\n",
    "        print(\"Downloading dataset...\")\n",
    "        tf.keras.utils.get_file(\n",
    "          'mini_speech_commands.zip',\n",
    "          origin=\"http://storage.googleapis.com/download.tensorflow.org/data/mini_speech_commands.zip\",\n",
    "          extract=True,\n",
    "          cache_dir='.', cache_subdir='data')\n",
    "\n",
    "    commands = np.array(tf.io.gfile.listdir(str(data_dir)))\n",
    "    commands = commands[commands != 'README.md']\n",
    "#     commands = np.delete(commands, np.where(commands=='yes')[0])\n",
    "#     commands = np.delete(commands, np.where(commands=='no')[0])\n",
    "    commands = np.delete(commands, np.where(commands=='up')[0])\n",
    "    commands = np.delete(commands, np.where(commands=='down')[0])\n",
    "    commands = np.delete(commands, np.where(commands=='right')[0])\n",
    "    commands = np.delete(commands, np.where(commands=='left')[0])\n",
    "    commands = np.delete(commands, np.where(commands=='stop')[0])\n",
    "    commands = np.delete(commands, np.where(commands=='go')[0])\n",
    "\n",
    "    print('Commands:', commands)\n",
    "\n",
    "    for com in commands:\n",
    "        for file_name in os.listdir(os.path.join(data_dir,com)):\n",
    "            file_path = os.path.join(data_dir,com+'/'+file_name)\n",
    "            data, _ = load(file_path, sr=fs)\n",
    "            data = np.array(data)\n",
    "            data = np.append(data,[0]*(fs-len(data)))\n",
    "\n",
    "            y.append(np.where(commands==com)[0][0])\n",
    "            x.append(data)\n",
    "    \n",
    "    y = np.array(y)\n",
    "    x_train, x_test, y_train, y_test = train_test_split(x, y, test_size=0.2, shuffle=True)\n",
    "    \n",
    "    largo = len(x_train[0])\n",
    "    print(\"Dataset loaded\")\n",
    "    return (x_train,y_train), (x_test,y_test), fs, commands, largo\n",
    "\n",
    "\n",
    "(x_train,y_train), (x_test,y_test), fs, commands, largo = create_dataset()"
   ]
  },
  {
   "cell_type": "markdown",
   "metadata": {},
   "source": [
    "## Preprocess"
   ]
  },
  {
   "cell_type": "code",
   "execution_count": 4,
   "metadata": {},
   "outputs": [
    {
     "name": "stdout",
     "output_type": "stream",
     "text": [
      "Spectrogram - Parameters\n",
      "\tn_fft = 512\n",
      "\tn_mels = 16\n",
      "\tnoverlap = 128\n",
      "Spectrogram - Results\n",
      "\tSpec shape: (12, 16)\n",
      "\tstep = 384\n",
      "\tn_blocks = 12\n",
      "\tinput_length = 5000\n",
      "\tinput_fs = 5000\n",
      "\tWARNING: Signal not yet processed\n",
      "\n",
      "Preparando train\n",
      "Preparando test\n",
      "mfcc_x_train.shape: (1600, 12, 16, 1)\n",
      "mfcc_x_test.shape:  (400, 12, 16, 1)\n"
     ]
    }
   ],
   "source": [
    "# Preprocesamiento de los datos\n",
    "from spec_export.spectrogram.melspec import Melspec\n",
    "\n",
    "n_mels = 16\n",
    "# n_fft = 128\n",
    "n_fft = 512\n",
    "# noverlap = 64\n",
    "noverlap = 128\n",
    "\n",
    "melspec = Melspec(n_fft, n_mels, noverlap)\n",
    "melspec.calculate_params(largo, fs, report=True)\n",
    "\n",
    "def preprocess_data(melspec, x_train, x_test):\n",
    "    mfcc_x_train = np.zeros((len(x_train),melspec.n_blocks,melspec.n_mels,1), dtype=np.float32)\n",
    "    mfcc_x_test = np.zeros((len(x_test),melspec.n_blocks,melspec.n_mels,1), dtype=np.float32)\n",
    "\n",
    "    print('Preparando train')\n",
    "    for i_train in range(len(x_train)):\n",
    "        dato = np.float32(x_train[i_train])\n",
    "        mfcc = melspec.process_melspectrogram(dato,fs)\n",
    "        mfcc = np.reshape(mfcc, mfcc.shape + (1,))\n",
    "        mfcc_x_train[i_train] = mfcc\n",
    "                           \n",
    "    print('Preparando test')\n",
    "    for i_test in range(len(x_test)):\n",
    "        dato = np.float32(x_test[i_test])\n",
    "        mfcc = melspec.process_melspectrogram(dato,fs)\n",
    "        mfcc = np.reshape(mfcc, mfcc.shape + (1,))\n",
    "        mfcc_x_test[i_test] = mfcc\n",
    "    \n",
    "    return mfcc_x_train , mfcc_x_test, melspec\n",
    "\n",
    "mfcc_x_train, mfcc_x_test, melspec = preprocess_data(melspec, x_train,x_test)\n",
    "print('mfcc_x_train.shape:', mfcc_x_train.shape)\n",
    "print('mfcc_x_test.shape: ', mfcc_x_test.shape)"
   ]
  },
  {
   "cell_type": "markdown",
   "metadata": {},
   "source": [
    "## Model"
   ]
  },
  {
   "cell_type": "code",
   "execution_count": null,
   "metadata": {
    "scrolled": true
   },
   "outputs": [],
   "source": [
    "# Creación del modelo\n",
    "classes = np.max((y_train.max(),y_test.max()))+1\n",
    "model = tf.keras.models.Sequential([\n",
    "    tf.keras.layers.Conv2D(8,kernel_size=(3, 3),activation='relu',input_shape=mfcc_x_train[0].shape),\n",
    "    tf.keras.layers.Conv2D(16,kernel_size=(3, 3),activation='relu'),\n",
    "    tf.keras.layers.MaxPooling2D(pool_size=(2, 2)),\n",
    "    tf.keras.layers.Conv2D(32,kernel_size=(2, 2),activation='relu'),\n",
    "    #tf.keras.layers.MaxPooling2D(pool_size=(2, 2)),\n",
    "    tf.keras.layers.Flatten(),\n",
    "    #tf.keras.layers.Dense(16,activation='relu'),\n",
    "    tf.keras.layers.Dense(32,activation='relu'),\n",
    "    tf.keras.layers.Dense(classes,activation='softmax')\n",
    "])\n",
    "model._name = \"EmbedIA_audio_recognition\"\n",
    "model.compile(optimizer='adam',loss='sparse_categorical_crossentropy',metrics=['acc'])\n",
    "model.summary()"
   ]
  },
  {
   "cell_type": "code",
   "execution_count": 5,
   "metadata": {},
   "outputs": [
    {
     "name": "stdout",
     "output_type": "stream",
     "text": [
      "Model: \"EmbedIA_audio_recognition\"\n",
      "_________________________________________________________________\n",
      "Layer (type)                 Output Shape              Param #   \n",
      "=================================================================\n",
      "conv2d (Conv2D)              (None, 10, 14, 4)         40        \n",
      "_________________________________________________________________\n",
      "conv2d_1 (Conv2D)            (None, 8, 12, 8)          296       \n",
      "_________________________________________________________________\n",
      "max_pooling2d (MaxPooling2D) (None, 4, 6, 8)           0         \n",
      "_________________________________________________________________\n",
      "conv2d_2 (Conv2D)            (None, 3, 5, 16)          528       \n",
      "_________________________________________________________________\n",
      "flatten (Flatten)            (None, 240)               0         \n",
      "_________________________________________________________________\n",
      "dense (Dense)                (None, 2)                 482       \n",
      "=================================================================\n",
      "Total params: 1,346\n",
      "Trainable params: 1,346\n",
      "Non-trainable params: 0\n",
      "_________________________________________________________________\n"
     ]
    }
   ],
   "source": [
    "# Creación del modelo\n",
    "classes = np.max((y_train.max(),y_test.max()))+1\n",
    "model = tf.keras.models.Sequential([\n",
    "    tf.keras.layers.Conv2D(4,kernel_size=(3, 3),activation='relu',input_shape=mfcc_x_train[0].shape),\n",
    "    tf.keras.layers.Conv2D(8,kernel_size=(3, 3),activation='relu'),\n",
    "    tf.keras.layers.MaxPooling2D(pool_size=(2, 2)),\n",
    "    tf.keras.layers.Conv2D(16,kernel_size=(2, 2),activation='relu'),\n",
    "    #tf.keras.layers.MaxPooling2D(pool_size=(2, 2)),\n",
    "    tf.keras.layers.Flatten(),\n",
    "    #tf.keras.layers.Dense(16,activation='relu'),\n",
    "#     tf.keras.layers.Dense(32,activation='relu'),\n",
    "    tf.keras.layers.Dense(classes,activation='softmax')\n",
    "])\n",
    "model._name = \"EmbedIA_audio_recognition\"\n",
    "model.compile(optimizer='adam',loss='sparse_categorical_crossentropy',metrics=['acc'])\n",
    "model.summary()"
   ]
  },
  {
   "cell_type": "code",
   "execution_count": 6,
   "metadata": {
    "scrolled": true
   },
   "outputs": [
    {
     "name": "stdout",
     "output_type": "stream",
     "text": [
      "Epoch 1/100\n",
      "13/13 - 12s - loss: 0.6807 - acc: 0.6231 - val_loss: 0.6655 - val_acc: 0.7500\n",
      "Epoch 2/100\n",
      "13/13 - 0s - loss: 0.6580 - acc: 0.7244 - val_loss: 0.6350 - val_acc: 0.7675\n",
      "Epoch 3/100\n",
      "13/13 - 0s - loss: 0.6250 - acc: 0.7431 - val_loss: 0.5906 - val_acc: 0.7625\n",
      "Epoch 4/100\n",
      "13/13 - 0s - loss: 0.5775 - acc: 0.7606 - val_loss: 0.5388 - val_acc: 0.7775\n",
      "Epoch 5/100\n",
      "13/13 - 0s - loss: 0.5274 - acc: 0.7788 - val_loss: 0.4826 - val_acc: 0.8025\n",
      "Epoch 6/100\n",
      "13/13 - 0s - loss: 0.4792 - acc: 0.8025 - val_loss: 0.4453 - val_acc: 0.8275\n",
      "Epoch 7/100\n",
      "13/13 - 0s - loss: 0.4446 - acc: 0.8169 - val_loss: 0.4228 - val_acc: 0.8400\n",
      "Epoch 8/100\n",
      "13/13 - 0s - loss: 0.4165 - acc: 0.8413 - val_loss: 0.4087 - val_acc: 0.8575\n",
      "Epoch 9/100\n",
      "13/13 - 0s - loss: 0.3988 - acc: 0.8356 - val_loss: 0.3995 - val_acc: 0.8800\n",
      "Epoch 10/100\n",
      "13/13 - 0s - loss: 0.3756 - acc: 0.8675 - val_loss: 0.3915 - val_acc: 0.8750\n",
      "Epoch 11/100\n",
      "13/13 - 0s - loss: 0.3571 - acc: 0.8769 - val_loss: 0.3654 - val_acc: 0.8950\n",
      "Epoch 12/100\n",
      "13/13 - 0s - loss: 0.3448 - acc: 0.8756 - val_loss: 0.3513 - val_acc: 0.9000\n",
      "Epoch 13/100\n",
      "13/13 - 0s - loss: 0.3275 - acc: 0.8806 - val_loss: 0.3426 - val_acc: 0.9075\n",
      "Epoch 14/100\n",
      "13/13 - 0s - loss: 0.3175 - acc: 0.9006 - val_loss: 0.3328 - val_acc: 0.9125\n",
      "Epoch 15/100\n",
      "13/13 - 0s - loss: 0.3029 - acc: 0.8944 - val_loss: 0.3434 - val_acc: 0.8775\n",
      "Epoch 16/100\n",
      "13/13 - 0s - loss: 0.2958 - acc: 0.9038 - val_loss: 0.3326 - val_acc: 0.8900\n",
      "Epoch 17/100\n",
      "13/13 - 0s - loss: 0.2866 - acc: 0.9056 - val_loss: 0.3027 - val_acc: 0.9225\n",
      "Epoch 18/100\n",
      "13/13 - 0s - loss: 0.2770 - acc: 0.9056 - val_loss: 0.2978 - val_acc: 0.9200\n",
      "Epoch 19/100\n",
      "13/13 - 0s - loss: 0.2606 - acc: 0.9181 - val_loss: 0.2912 - val_acc: 0.9300\n",
      "Epoch 20/100\n",
      "13/13 - 0s - loss: 0.2507 - acc: 0.9244 - val_loss: 0.2904 - val_acc: 0.9400\n",
      "Epoch 21/100\n",
      "13/13 - 0s - loss: 0.2400 - acc: 0.9225 - val_loss: 0.2800 - val_acc: 0.9325\n",
      "Epoch 22/100\n",
      "13/13 - 0s - loss: 0.2320 - acc: 0.9231 - val_loss: 0.2714 - val_acc: 0.9425\n",
      "Epoch 23/100\n",
      "13/13 - 0s - loss: 0.2241 - acc: 0.9287 - val_loss: 0.2652 - val_acc: 0.9375\n",
      "Epoch 24/100\n",
      "13/13 - 0s - loss: 0.2194 - acc: 0.9319 - val_loss: 0.2701 - val_acc: 0.9425\n",
      "Epoch 25/100\n",
      "13/13 - 0s - loss: 0.2130 - acc: 0.9312 - val_loss: 0.2673 - val_acc: 0.9425\n",
      "Epoch 26/100\n",
      "13/13 - 0s - loss: 0.2069 - acc: 0.9325 - val_loss: 0.2564 - val_acc: 0.9475\n",
      "Epoch 27/100\n",
      "13/13 - 0s - loss: 0.2021 - acc: 0.9369 - val_loss: 0.2544 - val_acc: 0.9475\n",
      "Epoch 28/100\n",
      "13/13 - 0s - loss: 0.2037 - acc: 0.9331 - val_loss: 0.2565 - val_acc: 0.9450\n",
      "Epoch 29/100\n",
      "13/13 - 0s - loss: 0.1958 - acc: 0.9369 - val_loss: 0.2452 - val_acc: 0.9475\n",
      "Epoch 30/100\n",
      "13/13 - 0s - loss: 0.1890 - acc: 0.9375 - val_loss: 0.2364 - val_acc: 0.9500\n",
      "Epoch 31/100\n",
      "13/13 - 0s - loss: 0.1836 - acc: 0.9413 - val_loss: 0.2322 - val_acc: 0.9500\n",
      "Epoch 32/100\n",
      "13/13 - 0s - loss: 0.1807 - acc: 0.9375 - val_loss: 0.2369 - val_acc: 0.9500\n",
      "Epoch 33/100\n",
      "13/13 - 0s - loss: 0.1781 - acc: 0.9438 - val_loss: 0.2308 - val_acc: 0.9500\n",
      "Epoch 34/100\n",
      "13/13 - 0s - loss: 0.1730 - acc: 0.9444 - val_loss: 0.2260 - val_acc: 0.9500\n",
      "Epoch 35/100\n",
      "13/13 - 0s - loss: 0.1671 - acc: 0.9450 - val_loss: 0.2225 - val_acc: 0.9600\n",
      "Epoch 36/100\n",
      "13/13 - 0s - loss: 0.1640 - acc: 0.9456 - val_loss: 0.2224 - val_acc: 0.9600\n",
      "Epoch 37/100\n",
      "13/13 - 0s - loss: 0.1640 - acc: 0.9450 - val_loss: 0.2196 - val_acc: 0.9525\n",
      "Epoch 38/100\n",
      "13/13 - 0s - loss: 0.1652 - acc: 0.9469 - val_loss: 0.2237 - val_acc: 0.9475\n",
      "Epoch 39/100\n",
      "13/13 - 0s - loss: 0.1574 - acc: 0.9469 - val_loss: 0.2244 - val_acc: 0.9475\n",
      "Epoch 40/100\n",
      "13/13 - 0s - loss: 0.1537 - acc: 0.9488 - val_loss: 0.2155 - val_acc: 0.9550\n",
      "Epoch 41/100\n",
      "13/13 - 0s - loss: 0.1501 - acc: 0.9538 - val_loss: 0.2137 - val_acc: 0.9600\n",
      "Epoch 42/100\n",
      "13/13 - 0s - loss: 0.1495 - acc: 0.9488 - val_loss: 0.2144 - val_acc: 0.9600\n",
      "Epoch 43/100\n",
      "13/13 - 0s - loss: 0.1473 - acc: 0.9500 - val_loss: 0.2163 - val_acc: 0.9550\n",
      "Epoch 44/100\n",
      "13/13 - 0s - loss: 0.1504 - acc: 0.9450 - val_loss: 0.2080 - val_acc: 0.9575\n",
      "Epoch 45/100\n",
      "13/13 - 0s - loss: 0.1503 - acc: 0.9481 - val_loss: 0.2078 - val_acc: 0.9600\n",
      "Epoch 46/100\n",
      "13/13 - 0s - loss: 0.1392 - acc: 0.9538 - val_loss: 0.2085 - val_acc: 0.9625\n",
      "Epoch 47/100\n",
      "13/13 - 0s - loss: 0.1376 - acc: 0.9550 - val_loss: 0.2066 - val_acc: 0.9625\n",
      "Epoch 48/100\n",
      "13/13 - 0s - loss: 0.1365 - acc: 0.9544 - val_loss: 0.2091 - val_acc: 0.9625\n",
      "Epoch 49/100\n",
      "13/13 - 0s - loss: 0.1344 - acc: 0.9531 - val_loss: 0.2107 - val_acc: 0.9575\n",
      "Epoch 50/100\n",
      "13/13 - 0s - loss: 0.1352 - acc: 0.9525 - val_loss: 0.2095 - val_acc: 0.9575\n",
      "Epoch 51/100\n",
      "13/13 - 0s - loss: 0.1343 - acc: 0.9519 - val_loss: 0.2088 - val_acc: 0.9575\n",
      "Epoch 52/100\n",
      "13/13 - 0s - loss: 0.1288 - acc: 0.9544 - val_loss: 0.2032 - val_acc: 0.9625\n",
      "Epoch 53/100\n",
      "13/13 - 0s - loss: 0.1285 - acc: 0.9569 - val_loss: 0.2007 - val_acc: 0.9625\n",
      "Epoch 54/100\n",
      "13/13 - 0s - loss: 0.1285 - acc: 0.9569 - val_loss: 0.1993 - val_acc: 0.9625\n",
      "Epoch 55/100\n",
      "13/13 - 0s - loss: 0.1273 - acc: 0.9525 - val_loss: 0.2028 - val_acc: 0.9575\n",
      "Epoch 56/100\n",
      "13/13 - 0s - loss: 0.1258 - acc: 0.9563 - val_loss: 0.2012 - val_acc: 0.9650\n",
      "Epoch 57/100\n",
      "13/13 - 0s - loss: 0.1228 - acc: 0.9588 - val_loss: 0.1972 - val_acc: 0.9650\n",
      "Epoch 58/100\n",
      "13/13 - 0s - loss: 0.1212 - acc: 0.9588 - val_loss: 0.1935 - val_acc: 0.9625\n",
      "Epoch 59/100\n",
      "13/13 - 0s - loss: 0.1183 - acc: 0.9588 - val_loss: 0.1929 - val_acc: 0.9575\n",
      "Epoch 60/100\n",
      "13/13 - 0s - loss: 0.1178 - acc: 0.9613 - val_loss: 0.1969 - val_acc: 0.9500\n",
      "Epoch 61/100\n",
      "13/13 - 0s - loss: 0.1145 - acc: 0.9613 - val_loss: 0.1950 - val_acc: 0.9625\n",
      "Epoch 62/100\n",
      "13/13 - 0s - loss: 0.1134 - acc: 0.9594 - val_loss: 0.1929 - val_acc: 0.9625\n",
      "Epoch 63/100\n",
      "13/13 - 0s - loss: 0.1129 - acc: 0.9581 - val_loss: 0.1946 - val_acc: 0.9650\n",
      "Epoch 64/100\n",
      "13/13 - 0s - loss: 0.1122 - acc: 0.9613 - val_loss: 0.1907 - val_acc: 0.9600\n",
      "Epoch 65/100\n",
      "13/13 - 0s - loss: 0.1103 - acc: 0.9619 - val_loss: 0.1921 - val_acc: 0.9650\n",
      "Epoch 66/100\n",
      "13/13 - 0s - loss: 0.1108 - acc: 0.9588 - val_loss: 0.2004 - val_acc: 0.9500\n",
      "Epoch 67/100\n",
      "13/13 - 0s - loss: 0.1100 - acc: 0.9588 - val_loss: 0.1897 - val_acc: 0.9625\n",
      "Epoch 68/100\n",
      "13/13 - 0s - loss: 0.1078 - acc: 0.9594 - val_loss: 0.1987 - val_acc: 0.9450\n",
      "Epoch 69/100\n",
      "13/13 - 0s - loss: 0.1095 - acc: 0.9619 - val_loss: 0.1956 - val_acc: 0.9500\n",
      "Epoch 70/100\n",
      "13/13 - 0s - loss: 0.1073 - acc: 0.9613 - val_loss: 0.1960 - val_acc: 0.9525\n",
      "Epoch 71/100\n",
      "13/13 - 0s - loss: 0.1083 - acc: 0.9600 - val_loss: 0.1897 - val_acc: 0.9600\n",
      "Epoch 72/100\n",
      "13/13 - 0s - loss: 0.1018 - acc: 0.9613 - val_loss: 0.2065 - val_acc: 0.9500\n",
      "Epoch 73/100\n",
      "13/13 - 0s - loss: 0.1107 - acc: 0.9569 - val_loss: 0.1884 - val_acc: 0.9600\n",
      "Epoch 74/100\n",
      "13/13 - 0s - loss: 0.1049 - acc: 0.9625 - val_loss: 0.1877 - val_acc: 0.9600\n",
      "Epoch 75/100\n",
      "13/13 - 0s - loss: 0.1030 - acc: 0.9575 - val_loss: 0.1941 - val_acc: 0.9500\n",
      "Epoch 76/100\n",
      "13/13 - 0s - loss: 0.1084 - acc: 0.9588 - val_loss: 0.2037 - val_acc: 0.9475\n",
      "Epoch 77/100\n",
      "13/13 - 0s - loss: 0.0990 - acc: 0.9638 - val_loss: 0.1878 - val_acc: 0.9625\n",
      "Epoch 78/100\n",
      "13/13 - 0s - loss: 0.0969 - acc: 0.9656 - val_loss: 0.1827 - val_acc: 0.9600\n",
      "Epoch 79/100\n",
      "13/13 - 0s - loss: 0.0965 - acc: 0.9663 - val_loss: 0.1817 - val_acc: 0.9575\n",
      "Epoch 80/100\n",
      "13/13 - 0s - loss: 0.0994 - acc: 0.9625 - val_loss: 0.1877 - val_acc: 0.9650\n",
      "Epoch 81/100\n",
      "13/13 - 0s - loss: 0.0963 - acc: 0.9625 - val_loss: 0.1850 - val_acc: 0.9625\n",
      "Epoch 82/100\n",
      "13/13 - 0s - loss: 0.0929 - acc: 0.9638 - val_loss: 0.1813 - val_acc: 0.9675\n",
      "Epoch 83/100\n",
      "13/13 - 0s - loss: 0.0915 - acc: 0.9688 - val_loss: 0.1783 - val_acc: 0.9600\n",
      "Epoch 84/100\n",
      "13/13 - 0s - loss: 0.0919 - acc: 0.9638 - val_loss: 0.1829 - val_acc: 0.9650\n",
      "Epoch 85/100\n",
      "13/13 - 0s - loss: 0.0895 - acc: 0.9700 - val_loss: 0.1862 - val_acc: 0.9675\n",
      "Epoch 86/100\n",
      "13/13 - 0s - loss: 0.0899 - acc: 0.9688 - val_loss: 0.1800 - val_acc: 0.9575\n",
      "Epoch 87/100\n",
      "13/13 - 0s - loss: 0.0882 - acc: 0.9688 - val_loss: 0.1873 - val_acc: 0.9625\n",
      "Epoch 88/100\n",
      "13/13 - 0s - loss: 0.0882 - acc: 0.9681 - val_loss: 0.1820 - val_acc: 0.9650\n",
      "Epoch 89/100\n",
      "13/13 - 0s - loss: 0.0880 - acc: 0.9706 - val_loss: 0.1847 - val_acc: 0.9600\n",
      "Epoch 90/100\n",
      "13/13 - 0s - loss: 0.0897 - acc: 0.9656 - val_loss: 0.1802 - val_acc: 0.9600\n",
      "Epoch 91/100\n",
      "13/13 - 0s - loss: 0.0874 - acc: 0.9675 - val_loss: 0.1801 - val_acc: 0.9625\n",
      "Epoch 92/100\n"
     ]
    },
    {
     "name": "stdout",
     "output_type": "stream",
     "text": [
      "13/13 - 0s - loss: 0.0849 - acc: 0.9712 - val_loss: 0.1807 - val_acc: 0.9650\n",
      "Epoch 93/100\n",
      "13/13 - 0s - loss: 0.0830 - acc: 0.9712 - val_loss: 0.1820 - val_acc: 0.9650\n",
      "Epoch 94/100\n",
      "13/13 - 0s - loss: 0.0823 - acc: 0.9719 - val_loss: 0.1782 - val_acc: 0.9650\n",
      "Epoch 95/100\n",
      "13/13 - 0s - loss: 0.0829 - acc: 0.9700 - val_loss: 0.1840 - val_acc: 0.9700\n",
      "Epoch 96/100\n",
      "13/13 - 0s - loss: 0.0812 - acc: 0.9725 - val_loss: 0.1768 - val_acc: 0.9600\n",
      "Epoch 97/100\n",
      "13/13 - 0s - loss: 0.0843 - acc: 0.9656 - val_loss: 0.1765 - val_acc: 0.9650\n",
      "Epoch 98/100\n",
      "13/13 - 0s - loss: 0.0819 - acc: 0.9719 - val_loss: 0.1788 - val_acc: 0.9675\n",
      "Epoch 99/100\n",
      "13/13 - 0s - loss: 0.0788 - acc: 0.9731 - val_loss: 0.1948 - val_acc: 0.9625\n",
      "Epoch 100/100\n",
      "13/13 - 0s - loss: 0.0796 - acc: 0.9712 - val_loss: 0.1769 - val_acc: 0.9650\n"
     ]
    }
   ],
   "source": [
    "# Entrenamiento del modelo\n",
    "history = model.fit(mfcc_x_train,y_train,epochs=100,batch_size=128,validation_data=(mfcc_x_test,y_test),verbose=2)"
   ]
  },
  {
   "cell_type": "code",
   "execution_count": 7,
   "metadata": {
    "scrolled": true
   },
   "outputs": [
    {
     "data": {
      "text/plain": [
       "[<matplotlib.lines.Line2D at 0x2792b8573c8>]"
      ]
     },
     "execution_count": 7,
     "metadata": {},
     "output_type": "execute_result"
    },
    {
     "data": {
      "image/png": "[encoded data removed]",
      "text/plain": [
       "<Figure size 432x288 with 1 Axes>"
      ]
     },
     "metadata": {
      "needs_background": "light"
     },
     "output_type": "display_data"
    }
   ],
   "source": [
    "# Curvas accuracy\n",
    "plt.title(\"Val_acc: \"+str(history.history[\"val_acc\"][-1]))\n",
    "plt.plot(history.history[\"acc\"])\n",
    "plt.plot(history.history[\"val_acc\"])"
   ]
  },
  {
   "cell_type": "markdown",
   "metadata": {},
   "source": [
    "## Export"
   ]
  },
  {
   "cell_type": "code",
   "execution_count": 8,
   "metadata": {},
   "outputs": [
    {
     "name": "stdout",
     "output_type": "stream",
     "text": [
      "number 1 example for test\n"
     ]
    }
   ],
   "source": [
    "OUTPUT_FOLDER = 'outputs/'\n",
    "PROJECT_NAME  = 'test_c'\n",
    "\n",
    "example_number = 28\n",
    "sample = x_test[example_number]\n",
    "comment= \"number %d example for test\" % y_test[example_number]\n",
    "print(comment)"
   ]
  },
  {
   "cell_type": "code",
   "execution_count": 9,
   "metadata": {},
   "outputs": [],
   "source": [
    "# Exportar espectrograma\n",
    "from spec_export.spectrogram.melspec_export import Melspec_export\n",
    "from spec_export.spectrogram.melspec_export_options import *\n",
    "\n",
    "# export options\n",
    "options = ProjectOptions()\n",
    "options.project_type = ProjectType.C # or ARDUINO\n",
    "options.data_type = DataType.FLOAT # not implemented yet\n",
    "options.files = ProjectFiles.ALL\n",
    "options.example_data = sample\n",
    "options.example_type = 'float' # it cannot be other than \"float\". Not implemented\n",
    "# options.baudrate = 115200 # only if project_type is Arduino\n",
    "\n",
    "# creation of the exporter and execution of the export to code c\n",
    "ms_export = Melspec_export(melspec, options)\n",
    "ms_export.export(OUTPUT_FOLDER, PROJECT_NAME)"
   ]
  },
  {
   "cell_type": "code",
   "execution_count": 10,
   "metadata": {
    "scrolled": false
   },
   "outputs": [],
   "source": [
    "# Exportar modelo de IA\n",
    "from embedia_export.embedia.project_options import *\n",
    "from embedia_export.embedia.project_generator import ProjectGenerator\n",
    "\n",
    "options = ProjectOptions()\n",
    "options.project_type = ProjectType.C\n",
    "options.data_type = ModelDataType.FLOAT\n",
    "options.debug_mode = DebugMode.DISCARD\n",
    "options.example_data = sample\n",
    "options.example_comment = comment\n",
    "options.files = ProjectFiles.ALL\n",
    "\n",
    "generator = ProjectGenerator()\n",
    "generator.create_project(OUTPUT_FOLDER, PROJECT_NAME, model, options)"
   ]
  },
  {
   "cell_type": "code",
   "execution_count": 11,
   "metadata": {},
   "outputs": [
    {
     "name": "stdout",
     "output_type": "stream",
     "text": [
      "\n",
      "Proyecto test_c exportado en outputs/\n"
     ]
    }
   ],
   "source": [
    "# Exportar main.c que unifica ambos exportadores\n",
    "from mix_export.mix.mix_exporter_options import *\n",
    "from mix_export.mix.mix_exporter import Mix_export\n",
    "\n",
    "options = ProjectOptions()\n",
    "options.project_type = ProjectType.C\n",
    "options.data_type = ModelDataType.FLOAT\n",
    "main_exporter = Mix_export(options)\n",
    "main_exporter.export(OUTPUT_FOLDER, PROJECT_NAME)\n",
    "\n",
    "print(\"\\nProyecto\", PROJECT_NAME, \"exportado en\", OUTPUT_FOLDER)"
   ]
  },
  {
   "cell_type": "code",
   "execution_count": 124,
   "metadata": {},
   "outputs": [],
   "source": [
    "np.save(\"notebook_output/x_train.npy\", x_train)\n",
    "np.save(\"notebook_output/y_train.npy\", y_train)\n",
    "np.save(\"notebook_output/x_test.npy\", x_test)\n",
    "np.save(\"notebook_output/y_test.npy\", y_test)\n",
    "np.save(\"notebook_output/mfcc_x_train.npy\", mfcc_x_train)\n",
    "np.save(\"notebook_output/mfcc_x_test.npy\", mfcc_x_test)\n",
    "model.save(\"notebook_output/model.h5\")"
   ]
  },
  {
   "cell_type": "markdown",
   "metadata": {},
   "source": [
    "# Recuperar modelo y datos"
   ]
  },
  {
   "cell_type": "markdown",
   "metadata": {},
   "source": [
    "## Recuperar modelo, datos de prueba y entrenamiento"
   ]
  },
  {
   "cell_type": "code",
   "execution_count": null,
   "metadata": {
    "scrolled": true
   },
   "outputs": [],
   "source": [
    "from tensorflow.keras.models import load_model\n",
    "import numpy as np\n",
    "\n",
    "model = load_model('notebook_output/model.h5')\n",
    "model.summary()\n",
    "\n",
    "x_train = np.load('notebook_output/x_train.npy', allow_pickle=True)\n",
    "mfcc_x_train = np.load('notebook_output/mfcc_x_train.npy', allow_pickle=True)\n",
    "y_train = np.load('notebook_output/y_train.npy', allow_pickle=True)\n",
    "x_test = np.load('notebook_output/x_test.npy', allow_pickle=True)\n",
    "mfcc_x_test = np.load('notebook_output/mfcc_x_test.npy', allow_pickle=True)\n",
    "y_test = np.load('notebook_output/y_test.npy', allow_pickle=True)"
   ]
  },
  {
   "cell_type": "code",
   "execution_count": null,
   "metadata": {},
   "outputs": [],
   "source": [
    "model.evaluate(mfcc_x_test, y_test)"
   ]
  },
  {
   "cell_type": "markdown",
   "metadata": {},
   "source": [
    "## Recuperar un dato del test"
   ]
  },
  {
   "cell_type": "code",
   "execution_count": 14,
   "metadata": {},
   "outputs": [],
   "source": [
    "import matplotlib.pyplot as plt\n",
    "import numpy as np\n",
    "\n",
    "dim_f = melspec.n_blocks\n",
    "dim_c = melspec.n_mels\n",
    "\n",
    "# Exportación a C\n",
    "def imprimir_entrada(entrada):\n",
    "    s=''\n",
    "    for i in entrada:\n",
    "        #i_string = f\"{i}, \"\n",
    "        i_string = \"%.7f, \" % (i)\n",
    "        s+=i_string\n",
    "    print(f'float input_data[] = {{\\n\\t{s[:-2]}\\n}};')\n",
    "\n",
    "# Función que usamos siempre modificada\n",
    "def visualizar_muestra(numero, repeticion, x_test, the_real_x_train, y_test, model, _imprimir_prediccion = 1, _imprimir_matriz = 0, _imprimir_vector = 0, _grafico_color = 0):\n",
    "    '''\n",
    "     Visualizar una muestra (imagen) e informacion adicional segun parametros\n",
    "     Recibe: \n",
    "            numero: Número a buscar\n",
    "            repeticion: Repetición dentro de x_test\n",
    "            x_test, y_test: vectores de dataset de prueba\n",
    "            model: necesario solo si _imprimir_prediccion = 1\n",
    "    '''\n",
    "\n",
    "    # Busqueda del número\n",
    "    n_muestra = np.where(y_test==numero)[0][repeticion]\n",
    "    muestra = x_test[n_muestra][:,:,:]\n",
    "\n",
    "  # Visualización de datos\n",
    "    if _imprimir_matriz:\n",
    "        print('Matriz\\n', muestra.reshape(dim_f,dim_c),'\\n')\n",
    "\n",
    "    if _imprimir_vector:\n",
    "        #print('Arreglo\\n', muestra.reshape(1,dim_f*dim_c),'\\n')\n",
    "        print(\"Arreglo\\n\")\n",
    "        imprimir_entrada(the_real_x_train[n_muestra].flatten())\n",
    "\n",
    "    muestra = np.reshape(muestra, (1,dim_f,dim_c,1))\n",
    "    \n",
    "    if _grafico_color:\n",
    "        plt.imshow(muestra[0,:,:,0])\n",
    "    else:\n",
    "        plt.imshow(muestra[0,:,:,0], cmap='gray')\n",
    "\n",
    "    if _imprimir_prediccion:\n",
    "        plt.title(f\"Clase: {commands[y_test[n_muestra]]} - Predicción: {commands[np.argmax(model.predict(np.reshape(x_test[n_muestra], ((1, )+ x_test[n_muestra].shape))))]}\")\n",
    "    else:\n",
    "        plt.title(f\"Clase: {commands[y_test[n_muestra]]}\")\n",
    "    \n",
    "    plt.show()"
   ]
  },
  {
   "cell_type": "code",
   "execution_count": 17,
   "metadata": {
    "scrolled": false
   },
   "outputs": [
    {
     "data": {
      "image/png": "[encoded data removed]",
      "text/plain": [
       "<Figure size 432x288 with 1 Axes>"
      ]
     },
     "metadata": {
      "needs_background": "light"
     },
     "output_type": "display_data"
    }
   ],
   "source": [
    "# Elección del número\n",
    "numero = 1\n",
    "repeticion = 2\n",
    "\n",
    "# Qué datos adicionales imprimir\n",
    "_imprimir_prediccion = 1\n",
    "_imprimir_matriz = 0\n",
    "_imprimir_vector = 0\n",
    "_grafico_color = 1\n",
    "# model = 0\n",
    "visualizar_muestra(numero, repeticion, mfcc_x_test, x_test, y_test, model, _imprimir_prediccion, _imprimir_matriz, _imprimir_vector, _grafico_color)"
   ]
  },
  {
   "cell_type": "markdown",
   "metadata": {},
   "source": [
    "# Test in C"
   ]
  },
  {
   "cell_type": "code",
   "execution_count": 25,
   "metadata": {},
   "outputs": [
    {
     "name": "stdout",
     "output_type": "stream",
     "text": [
      " El volumen de la unidad C es Windows\n",
      " El n£mero de serie del volumen es: 780F-B83E\n",
      "\n",
      " Directorio de C:\\Users\\Marquiitos\\Documents\\Proyectos\\EmbedIA\\Experimentos\\Proyecto Embedia-Spec\\export_spectrogram\\embedia_audio_recognition\\outputs\\test_c\n",
      "\n",
      "02/04/2023  08:23 p. m.    <DIR>          .\n",
      "02/04/2023  08:23 p. m.    <DIR>          ..\n",
      "02/04/2023  08:17 p. m.            13.991 embedia.c\n",
      "02/04/2023  08:17 p. m.             9.089 embedia.h\n",
      "02/04/2023  08:17 p. m.            37.217 embedia_audio_recognition_model.c\n",
      "02/04/2023  08:17 p. m.               393 embedia_audio_recognition_model.h\n",
      "02/04/2023  08:17 p. m.            57.114 example_data.h\n",
      "02/04/2023  08:17 p. m.             1.966 fft.c\n",
      "02/04/2023  08:17 p. m.               733 fft.h\n",
      "02/04/2023  08:17 p. m.               885 main.c\n",
      "02/04/2023  08:17 p. m.             1.250 spectrogram.c\n",
      "02/04/2023  08:17 p. m.               481 spectrogram.h\n",
      "              10 archivos        123.119 bytes\n",
      "               2 dirs  201.424.736.256 bytes libres\n"
     ]
    }
   ],
   "source": [
    "!dir \"outputs/test_c\""
   ]
  },
  {
   "cell_type": "code",
   "execution_count": 26,
   "metadata": {},
   "outputs": [],
   "source": [
    "!gcc -o \"outputs/test_c/test_c\" -Wall \"outputs/test_c/main.c\" \"outputs/test_c/embedia.c\" \"outputs/test_c/embedia_audio_recognition_model.c\" \"outputs/test_c/fft.c\" \"outputs/test_c/spectrogram.c\""
   ]
  },
  {
   "cell_type": "code",
   "execution_count": 37,
   "metadata": {},
   "outputs": [
    {
     "name": "stdout",
     "output_type": "stream",
     "text": [
      " El volumen de la unidad C es Windows\n",
      " El n£mero de serie del volumen es: 780F-B83E\n",
      "\n",
      " Directorio de C:\\Users\\Marquiitos\\Documents\\Proyectos\\EmbedIA\\Experimentos\\Proyecto Embedia-Spec\\export_spectrogram\\embedia_audio_recognition\\outputs\\test_c\n",
      "\n",
      "02/04/2023  08:28 p. m.    <DIR>          .\n",
      "02/04/2023  08:28 p. m.    <DIR>          ..\n",
      "02/04/2023  08:17 p. m.            13.991 embedia.c\n",
      "02/04/2023  08:17 p. m.             9.089 embedia.h\n",
      "02/04/2023  08:17 p. m.            37.217 embedia_audio_recognition_model.c\n",
      "02/04/2023  08:17 p. m.               393 embedia_audio_recognition_model.h\n",
      "02/04/2023  08:17 p. m.            57.114 example_data.h\n",
      "02/04/2023  08:17 p. m.             1.966 fft.c\n",
      "02/04/2023  08:17 p. m.               733 fft.h\n",
      "02/04/2023  08:17 p. m.               885 main.c\n",
      "02/04/2023  08:17 p. m.             1.250 spectrogram.c\n",
      "02/04/2023  08:17 p. m.               481 spectrogram.h\n",
      "02/04/2023  08:28 p. m.            99.192 test_c.exe\n",
      "              11 archivos        222.311 bytes\n",
      "               2 dirs  201.428.819.968 bytes libres\n"
     ]
    }
   ],
   "source": [
    "!dir \"outputs/test_c\""
   ]
  },
  {
   "cell_type": "code",
   "execution_count": 40,
   "metadata": {
    "scrolled": true
   },
   "outputs": [
    {
     "name": "stdout",
     "output_type": "stream",
     "text": [
      "number 1 example for test\n",
      "Prediction class id: 1\n"
     ]
    }
   ],
   "source": [
    "print(comment)\n",
    "!cd \"outputs/test_c/\" && test_c.exe"
   ]
  }
 ],
 "metadata": {
  "interpreter": {
   "hash": "8f774ea1718885481f1afbebb13190cd56d756968ddd2a7acc41115bede1d390"
  },
  "kernelspec": {
   "display_name": "Python 3",
   "language": "python",
   "name": "python3"
  },
  "language_info": {
   "codemirror_mode": {
    "name": "ipython",
    "version": 3
   },
   "file_extension": ".py",
   "mimetype": "text/x-python",
   "name": "python",
   "nbconvert_exporter": "python",
   "pygments_lexer": "ipython3",
   "version": "3.7.6"
  }
 },
 "nbformat": 4,
 "nbformat_minor": 2
}
