{
 "cells": [
  {
   "cell_type": "markdown",
   "metadata": {
    "id": "Owq4xl8BoQLy"
   },
   "source": [
    "# Modelo clasificador de Tensorflow SpeechCommands\n",
    "\n",
    "En lugar de utilizar librosa, utilizo la librería spectrogram.py <strong>\"desarrollada\"</strong>"
   ]
  },
  {
   "cell_type": "code",
   "execution_count": 1,
   "metadata": {
    "colab": {
     "base_uri": "https://localhost:8080/"
    },
    "executionInfo": {
     "elapsed": 19,
     "status": "ok",
     "timestamp": 1680285817818,
     "user": {
      "displayName": "Marcos David Saavedra",
      "userId": "00956491970482123385"
     },
     "user_tz": 180
    },
    "id": "RoUqJRQ1oQL9",
    "outputId": "a3da0bb4-638f-4bd8-c0eb-179e78a0b486"
   },
   "outputs": [
    {
     "name": "stdout",
     "output_type": "stream",
     "text": [
      "Modelo clasificador de Tensorflow SpeechCommands.\n"
     ]
    }
   ],
   "source": [
    "print('Modelo clasificador de Tensorflow SpeechCommands.')"
   ]
  },
  {
   "cell_type": "code",
   "execution_count": 2,
   "metadata": {
    "executionInfo": {
     "elapsed": 8883,
     "status": "ok",
     "timestamp": 1680285838930,
     "user": {
      "displayName": "Marcos David Saavedra",
      "userId": "00956491970482123385"
     },
     "user_tz": 180
    },
    "id": "ilWcL422oQL_"
   },
   "outputs": [],
   "source": [
    "import numpy as np\n",
    "from scipy.io import wavfile\n",
    "import os\n",
    "import pathlib\n",
    "from sklearn.model_selection import train_test_split\n",
    "import tensorflow as tf\n",
    "import librosa\n",
    "import matplotlib.pyplot as plt"
   ]
  },
  {
   "cell_type": "code",
   "execution_count": 3,
   "metadata": {
    "colab": {
     "base_uri": "https://localhost:8080/"
    },
    "executionInfo": {
     "elapsed": 23463,
     "status": "ok",
     "timestamp": 1680285864774,
     "user": {
      "displayName": "Marcos David Saavedra",
      "userId": "00956491970482123385"
     },
     "user_tz": 180
    },
    "id": "13j0ecYXoQMA",
    "outputId": "79d6bc71-485c-4737-a206-9013f76bb040"
   },
   "outputs": [
    {
     "name": "stdout",
     "output_type": "stream",
     "text": [
      "Downloading data from http://storage.googleapis.com/download.tensorflow.org/data/mini_speech_commands.zip\n",
      "182083584/182082353 [==============================] - 66s 0us/step\n",
      "Commands: ['down' 'go' 'left' 'right' 'stop']\n"
     ]
    }
   ],
   "source": [
    "# Cargado del dataset\n",
    "import math\n",
    "def create_dataset():\n",
    "    y = []\n",
    "    x = []\n",
    "    #PATH = 'data/'\n",
    "    #PATH = 'free_spoken_digit_dataset/recordings/'\n",
    "    #PATH = 'Familia_SMNIST'\n",
    "    #fs, _  = wavfile.read(os.path.join(PATH,os.listdir(PATH)[0]))\n",
    "    fs = 5000\n",
    "\n",
    "\n",
    "    data_dir = pathlib.Path('data/mini_speech_commands')\n",
    "    if not data_dir.exists():\n",
    "      tf.keras.utils.get_file(\n",
    "          'mini_speech_commands.zip',\n",
    "          origin=\"http://storage.googleapis.com/download.tensorflow.org/data/mini_speech_commands.zip\",\n",
    "          extract=True,\n",
    "          cache_dir='.', cache_subdir='data')\n",
    "\n",
    "    commands = np.array(tf.io.gfile.listdir(str(data_dir)))\n",
    "    commands = commands[commands != 'README.md']\n",
    "    commands = np.delete(commands, np.where(commands=='yes')[0])\n",
    "    commands = np.delete(commands, np.where(commands=='no')[0])\n",
    "    commands = np.delete(commands, np.where(commands=='up')[0])\n",
    "\n",
    "    print('Commands:', commands)\n",
    "\n",
    "    for com in commands:\n",
    "      for file_name in os.listdir(os.path.join(data_dir,com)):\n",
    "        file_path = os.path.join(data_dir,com+'/'+file_name)\n",
    "        data, _ = librosa.load(file_path, sr=fs)\n",
    "        data = np.array(data)\n",
    "        data = np.append(data,[0]*(fs-len(data)))\n",
    "        \n",
    "        y.append(np.where(commands==com)[0][0])\n",
    "        x.append(data)\n",
    "    \n",
    "    y = np.array(y)\n",
    "    x_train, x_test, y_train, y_test = train_test_split(x, y, test_size=0.2, shuffle=True)\n",
    "    \n",
    "    return (x_train,y_train), (x_test,y_test), fs, commands\n",
    "\n",
    "\n",
    "(x_train,y_train), (x_test,y_test), fs, commands= create_dataset()"
   ]
  },
  {
   "cell_type": "code",
   "execution_count": 4,
   "metadata": {
    "colab": {
     "base_uri": "https://localhost:8080/"
    },
    "executionInfo": {
     "elapsed": 25986,
     "status": "ok",
     "timestamp": 1680286049545,
     "user": {
      "displayName": "Marcos David Saavedra",
      "userId": "00956491970482123385"
     },
     "user_tz": 180
    },
    "id": "1hUp67lGoQMC",
    "outputId": "761b86ff-1d34-4689-ca0e-79e37b06db2b"
   },
   "outputs": [
    {
     "name": "stdout",
     "output_type": "stream",
     "text": [
      "bloques:  19\n",
      "Preparando train\n",
      "Preparando test\n",
      "mfcc_x_train.shape: (4000, 19, 32, 1)\n",
      "mfcc_x_test.shape:  (1000, 19, 32, 1)\n"
     ]
    }
   ],
   "source": [
    "# Preprocesamiento de los datos\n",
    "from spectrogram import create_spectrogram\n",
    "\n",
    "n_mels = 32\n",
    "n_fft = 256\n",
    "noverlap = 0#n_fft//2\n",
    "segundos = 1\n",
    "largo = segundos*fs\n",
    "bloques = largo // n_fft\n",
    "print(\"bloques: \", bloques)\n",
    "#bloques = largo//noverlap-1\n",
    "\n",
    "def preprocess_data(x_train,x_test):\n",
    "    mfcc_x_train = np.zeros((len(x_train),bloques,n_mels,1), dtype=np.float32)\n",
    "    mfcc_x_test = np.zeros((len(x_test),bloques,n_mels,1), dtype=np.float32)\n",
    "\n",
    "    print('Preparando train')\n",
    "    for i_train in range(len(x_train)):\n",
    "        dato = np.float32(x_train[i_train])\n",
    "        starts,mfcc = create_spectrogram(dato,n_fft,n_mels,noverlap)\n",
    "        #mfcc = librosa.power_to_db(mfcc)\n",
    "        mfcc = np.reshape(mfcc, mfcc.shape + (1,))\n",
    "        mfcc_x_train[i_train] = mfcc\n",
    "                           \n",
    "    print('Preparando test')\n",
    "    for i_test in range(len(x_test)):\n",
    "        dato = np.float32(x_test[i_test])\n",
    "        starts,mfcc = create_spectrogram(dato,n_fft,n_mels,noverlap)\n",
    "        #mfcc = librosa.power_to_db(mfcc)\n",
    "        mfcc = np.reshape(mfcc, mfcc.shape + (1,))\n",
    "        mfcc_x_test[i_test] = mfcc\n",
    "    \n",
    "    return mfcc_x_train , mfcc_x_test\n",
    "\n",
    "mfcc_x_train,mfcc_x_test = preprocess_data(x_train,x_test)\n",
    "print('mfcc_x_train.shape:', mfcc_x_train.shape)\n",
    "print('mfcc_x_test.shape: ', mfcc_x_test.shape)"
   ]
  },
  {
   "cell_type": "code",
   "execution_count": 5,
   "metadata": {
    "colab": {
     "base_uri": "https://localhost:8080/",
     "height": 372
    },
    "executionInfo": {
     "elapsed": 533,
     "status": "ok",
     "timestamp": 1680286055019,
     "user": {
      "displayName": "Marcos David Saavedra",
      "userId": "00956491970482123385"
     },
     "user_tz": 180
    },
    "id": "ziJP1aE6vda4",
    "outputId": "e4aed4ae-5ee4-4b6b-8ffa-6476fc72abb8"
   },
   "outputs": [
    {
     "data": {
      "text/plain": [
       "<function matplotlib.pyplot.show(*args, **kw)>"
      ]
     },
     "execution_count": 5,
     "metadata": {},
     "output_type": "execute_result"
    },
    {
     "data": {
      "image/png": "[encoded data removed]",
      "text/plain": [
       "<Figure size 432x288 with 1 Axes>"
      ]
     },
     "metadata": {
      "needs_background": "light"
     },
     "output_type": "display_data"
    }
   ],
   "source": [
    "plt.imshow(mfcc_x_train[165,:,:,0])\n",
    "plt.show"
   ]
  },
  {
   "cell_type": "code",
   "execution_count": 6,
   "metadata": {
    "colab": {
     "base_uri": "https://localhost:8080/"
    },
    "executionInfo": {
     "elapsed": 5287,
     "status": "ok",
     "timestamp": 1680286069049,
     "user": {
      "displayName": "Marcos David Saavedra",
      "userId": "00956491970482123385"
     },
     "user_tz": 180
    },
    "id": "pYOrtMcPoQMD",
    "outputId": "86e799ef-a080-4ca0-f88d-8b080a825f73",
    "scrolled": true
   },
   "outputs": [
    {
     "name": "stdout",
     "output_type": "stream",
     "text": [
      "Model: \"sequential\"\n",
      "_________________________________________________________________\n",
      "Layer (type)                 Output Shape              Param #   \n",
      "=================================================================\n",
      "conv2d (Conv2D)              (None, 17, 30, 4)         40        \n",
      "_________________________________________________________________\n",
      "conv2d_1 (Conv2D)            (None, 15, 28, 8)         296       \n",
      "_________________________________________________________________\n",
      "max_pooling2d (MaxPooling2D) (None, 7, 14, 8)          0         \n",
      "_________________________________________________________________\n",
      "conv2d_2 (Conv2D)            (None, 6, 13, 16)         528       \n",
      "_________________________________________________________________\n",
      "conv2d_3 (Conv2D)            (None, 5, 12, 32)         2080      \n",
      "_________________________________________________________________\n",
      "max_pooling2d_1 (MaxPooling2 (None, 2, 6, 32)          0         \n",
      "_________________________________________________________________\n",
      "conv2d_4 (Conv2D)            (None, 1, 5, 32)          4128      \n",
      "_________________________________________________________________\n",
      "flatten (Flatten)            (None, 160)               0         \n",
      "_________________________________________________________________\n",
      "dense (Dense)                (None, 5)                 805       \n",
      "=================================================================\n",
      "Total params: 7,877\n",
      "Trainable params: 7,877\n",
      "Non-trainable params: 0\n",
      "_________________________________________________________________\n"
     ]
    }
   ],
   "source": [
    "# Creación del modelo pequeño full convolucional\n",
    "model = tf.keras.models.Sequential([\n",
    "    tf.keras.layers.Conv2D(4,kernel_size=(3, 3),activation='relu',input_shape=mfcc_x_train[0].shape),\n",
    "    tf.keras.layers.Conv2D(8,kernel_size=(3, 3),activation='relu'),\n",
    "    tf.keras.layers.MaxPooling2D(pool_size=(2, 2)),\n",
    "    tf.keras.layers.Conv2D(16,kernel_size=(2, 2),activation='relu'),\n",
    "    tf.keras.layers.Conv2D(32,kernel_size=(2, 2),activation='relu'),\n",
    "    tf.keras.layers.MaxPooling2D(pool_size=(2, 2)),\n",
    "    tf.keras.layers.Conv2D(32,kernel_size=(2, 2),activation='relu'),\n",
    "    tf.keras.layers.Flatten(),\n",
    "    #tf.keras.layers.Dense(8,activation='relu'),\n",
    "    tf.keras.layers.Dense(commands.shape[0],activation='softmax')    \n",
    "])\n",
    "model.compile(optimizer='adam',loss='sparse_categorical_crossentropy',metrics=['acc'])\n",
    "model.summary()"
   ]
  },
  {
   "cell_type": "code",
   "execution_count": 7,
   "metadata": {
    "colab": {
     "base_uri": "https://localhost:8080/"
    },
    "executionInfo": {
     "elapsed": 505,
     "status": "ok",
     "timestamp": 1632175282063,
     "user": {
      "displayName": "Marcos David Saavedra",
      "photoUrl": "https://lh3.googleusercontent.com/a-/AOh14GiLW697ZOQdR0pkQ5ETOv58_1Cp8i9ifS4iaDxU=s64",
      "userId": "00956491970482123385"
     },
     "user_tz": 180
    },
    "id": "o1xtNEhoxCJG",
    "outputId": "5ae6398a-321f-458e-d1b1-d509495b35b3"
   },
   "outputs": [
    {
     "name": "stdout",
     "output_type": "stream",
     "text": [
      "Model: \"sequential_1\"\n",
      "_________________________________________________________________\n",
      "Layer (type)                 Output Shape              Param #   \n",
      "=================================================================\n",
      "conv2d_5 (Conv2D)            (None, 17, 30, 4)         40        \n",
      "_________________________________________________________________\n",
      "conv2d_6 (Conv2D)            (None, 15, 28, 8)         296       \n",
      "_________________________________________________________________\n",
      "conv2d_7 (Conv2D)            (None, 13, 26, 16)        1168      \n",
      "_________________________________________________________________\n",
      "conv2d_8 (Conv2D)            (None, 11, 24, 32)        4640      \n",
      "_________________________________________________________________\n",
      "max_pooling2d_2 (MaxPooling2 (None, 3, 8, 32)          0         \n",
      "_________________________________________________________________\n",
      "conv2d_9 (Conv2D)            (None, 1, 6, 32)          9248      \n",
      "_________________________________________________________________\n",
      "flatten_1 (Flatten)          (None, 192)               0         \n",
      "_________________________________________________________________\n",
      "dense_1 (Dense)              (None, 5)                 965       \n",
      "=================================================================\n",
      "Total params: 16,357\n",
      "Trainable params: 16,357\n",
      "Non-trainable params: 0\n",
      "_________________________________________________________________\n"
     ]
    }
   ],
   "source": [
    "# Creación del modelo grande\n",
    "model = tf.keras.models.Sequential([\n",
    "    tf.keras.layers.Conv2D(4,kernel_size=(3, 3),activation='relu',input_shape=mfcc_x_train[0].shape),\n",
    "    tf.keras.layers.Conv2D(8,kernel_size=(3, 3),activation='relu'),\n",
    "    tf.keras.layers.Conv2D(16,kernel_size=(3, 3),activation='relu'),\n",
    "    tf.keras.layers.Conv2D(32,kernel_size=(3, 3),activation='relu'),\n",
    "    tf.keras.layers.MaxPooling2D(pool_size=(3, 3)),\n",
    "    tf.keras.layers.Conv2D(32,kernel_size=(3, 3),activation='relu'),\n",
    "    tf.keras.layers.Flatten(),\n",
    "    #tf.keras.layers.Dense(8,activation='relu'),\n",
    "    tf.keras.layers.Dense(commands.shape[0],activation='softmax')    \n",
    "])\n",
    "model.compile(optimizer='adam',loss='sparse_categorical_crossentropy',metrics=['acc'])\n",
    "model.summary()"
   ]
  },
  {
   "cell_type": "code",
   "execution_count": 8,
   "metadata": {
    "colab": {
     "base_uri": "https://localhost:8080/"
    },
    "executionInfo": {
     "elapsed": 410,
     "status": "ok",
     "timestamp": 1632175376678,
     "user": {
      "displayName": "Marcos David Saavedra",
      "photoUrl": "https://lh3.googleusercontent.com/a-/AOh14GiLW697ZOQdR0pkQ5ETOv58_1Cp8i9ifS4iaDxU=s64",
      "userId": "00956491970482123385"
     },
     "user_tz": 180
    },
    "id": "SMkDHgZ4xdqf",
    "outputId": "961a6c15-0fc9-4324-f4ed-a150b040a899"
   },
   "outputs": [
    {
     "name": "stdout",
     "output_type": "stream",
     "text": [
      "Model: \"sequential_2\"\n",
      "_________________________________________________________________\n",
      "Layer (type)                 Output Shape              Param #   \n",
      "=================================================================\n",
      "conv2d_10 (Conv2D)           (None, 17, 30, 16)        160       \n",
      "_________________________________________________________________\n",
      "max_pooling2d_3 (MaxPooling2 (None, 8, 15, 16)         0         \n",
      "_________________________________________________________________\n",
      "conv2d_11 (Conv2D)           (None, 6, 13, 32)         4640      \n",
      "_________________________________________________________________\n",
      "max_pooling2d_4 (MaxPooling2 (None, 3, 6, 32)          0         \n",
      "_________________________________________________________________\n",
      "flatten_2 (Flatten)          (None, 576)               0         \n",
      "_________________________________________________________________\n",
      "dense_2 (Dense)              (None, 5)                 2885      \n",
      "=================================================================\n",
      "Total params: 7,685\n",
      "Trainable params: 7,685\n",
      "Non-trainable params: 0\n",
      "_________________________________________________________________\n"
     ]
    }
   ],
   "source": [
    "# Creación del modelo mediano\n",
    "model = tf.keras.models.Sequential([\n",
    "    tf.keras.layers.Conv2D(16,kernel_size=(3, 3),activation='relu',input_shape=mfcc_x_train[0].shape),\n",
    "    tf.keras.layers.MaxPooling2D(pool_size=(2, 2)),\n",
    "    tf.keras.layers.Conv2D(32,kernel_size=(3, 3),activation='relu'),\n",
    "    tf.keras.layers.MaxPooling2D(pool_size=(2, 2)),\n",
    "    tf.keras.layers.Flatten(),\n",
    "    #tf.keras.layers.Dense(8,activation='relu'),\n",
    "    tf.keras.layers.Dense(commands.shape[0],activation='softmax')    \n",
    "])\n",
    "model.compile(optimizer='adam',loss='sparse_categorical_crossentropy',metrics=['acc'])\n",
    "model.summary()"
   ]
  },
  {
   "cell_type": "code",
   "execution_count": 9,
   "metadata": {
    "colab": {
     "base_uri": "https://localhost:8080/"
    },
    "executionInfo": {
     "elapsed": 49115,
     "status": "ok",
     "timestamp": 1680286171458,
     "user": {
      "displayName": "Marcos David Saavedra",
      "userId": "00956491970482123385"
     },
     "user_tz": 180
    },
    "id": "EYCMqdmfoQME",
    "outputId": "fe8ad7f0-4646-46a3-88e7-6312167547a0",
    "scrolled": true
   },
   "outputs": [
    {
     "name": "stdout",
     "output_type": "stream",
     "text": [
      "Epoch 1/100\n",
      "63/63 - 7s - loss: 1.4897 - acc: 0.3952 - val_loss: 1.3662 - val_acc: 0.5250\n",
      "Epoch 2/100\n",
      "63/63 - 1s - loss: 1.2858 - acc: 0.5468 - val_loss: 1.2315 - val_acc: 0.6270\n",
      "Epoch 3/100\n",
      "63/63 - 1s - loss: 1.1018 - acc: 0.6492 - val_loss: 1.0708 - val_acc: 0.7060\n",
      "Epoch 4/100\n",
      "63/63 - 1s - loss: 0.9643 - acc: 0.7013 - val_loss: 1.0046 - val_acc: 0.7320\n",
      "Epoch 5/100\n",
      "63/63 - 1s - loss: 0.8576 - acc: 0.7460 - val_loss: 0.9148 - val_acc: 0.7470\n",
      "Epoch 6/100\n",
      "63/63 - 1s - loss: 0.7667 - acc: 0.7788 - val_loss: 0.8213 - val_acc: 0.8000\n",
      "Epoch 7/100\n",
      "63/63 - 1s - loss: 0.7148 - acc: 0.7987 - val_loss: 0.7751 - val_acc: 0.8070\n",
      "Epoch 8/100\n",
      "63/63 - 1s - loss: 0.6652 - acc: 0.8102 - val_loss: 0.7643 - val_acc: 0.8120\n",
      "Epoch 9/100\n",
      "63/63 - 1s - loss: 0.6140 - acc: 0.8290 - val_loss: 0.7433 - val_acc: 0.8100\n",
      "Epoch 10/100\n",
      "63/63 - 1s - loss: 0.6029 - acc: 0.8280 - val_loss: 0.7911 - val_acc: 0.7790\n",
      "Epoch 11/100\n",
      "63/63 - 1s - loss: 0.5633 - acc: 0.8353 - val_loss: 0.7110 - val_acc: 0.8240\n",
      "Epoch 12/100\n",
      "63/63 - 1s - loss: 0.5387 - acc: 0.8400 - val_loss: 0.7326 - val_acc: 0.8180\n",
      "Epoch 13/100\n",
      "63/63 - 1s - loss: 0.5274 - acc: 0.8470 - val_loss: 0.7329 - val_acc: 0.8070\n",
      "Epoch 14/100\n",
      "63/63 - 1s - loss: 0.4830 - acc: 0.8565 - val_loss: 0.7316 - val_acc: 0.8140\n",
      "Epoch 15/100\n",
      "63/63 - 1s - loss: 0.4865 - acc: 0.8602 - val_loss: 0.6803 - val_acc: 0.8370\n",
      "Epoch 16/100\n",
      "63/63 - 1s - loss: 0.4838 - acc: 0.8585 - val_loss: 0.6690 - val_acc: 0.8270\n",
      "Epoch 17/100\n",
      "63/63 - 1s - loss: 0.4419 - acc: 0.8745 - val_loss: 0.6875 - val_acc: 0.8320\n",
      "Epoch 18/100\n",
      "63/63 - 1s - loss: 0.4305 - acc: 0.8742 - val_loss: 0.7207 - val_acc: 0.8070\n",
      "Epoch 19/100\n",
      "63/63 - 1s - loss: 0.4207 - acc: 0.8758 - val_loss: 0.7079 - val_acc: 0.8230\n",
      "Epoch 20/100\n",
      "63/63 - 1s - loss: 0.4204 - acc: 0.8760 - val_loss: 0.6838 - val_acc: 0.8340\n",
      "Epoch 21/100\n",
      "63/63 - 1s - loss: 0.3927 - acc: 0.8845 - val_loss: 0.7383 - val_acc: 0.8250\n",
      "Epoch 22/100\n",
      "63/63 - 1s - loss: 0.3874 - acc: 0.8850 - val_loss: 0.6994 - val_acc: 0.8420\n",
      "Epoch 23/100\n",
      "63/63 - 2s - loss: 0.4020 - acc: 0.8788 - val_loss: 0.6706 - val_acc: 0.8440\n",
      "Epoch 24/100\n",
      "63/63 - 2s - loss: 0.3764 - acc: 0.8875 - val_loss: 0.7038 - val_acc: 0.8440\n",
      "Epoch 25/100\n",
      "63/63 - 2s - loss: 0.3607 - acc: 0.8892 - val_loss: 0.7012 - val_acc: 0.8390\n",
      "Epoch 26/100\n",
      "63/63 - 2s - loss: 0.3367 - acc: 0.9022 - val_loss: 0.7017 - val_acc: 0.8440\n",
      "Epoch 27/100\n",
      "63/63 - 1s - loss: 0.3304 - acc: 0.9005 - val_loss: 0.7099 - val_acc: 0.8430\n",
      "Epoch 28/100\n",
      "63/63 - 2s - loss: 0.3277 - acc: 0.9007 - val_loss: 0.7309 - val_acc: 0.8390\n",
      "Epoch 29/100\n",
      "63/63 - 2s - loss: 0.3208 - acc: 0.9035 - val_loss: 0.7927 - val_acc: 0.8240\n",
      "Epoch 30/100\n",
      "63/63 - 2s - loss: 0.3313 - acc: 0.8970 - val_loss: 0.7456 - val_acc: 0.8450\n",
      "Epoch 31/100\n",
      "63/63 - 2s - loss: 0.3078 - acc: 0.9062 - val_loss: 0.7241 - val_acc: 0.8420\n",
      "Epoch 32/100\n",
      "63/63 - 1s - loss: 0.2958 - acc: 0.9122 - val_loss: 0.7396 - val_acc: 0.8390\n",
      "Epoch 33/100\n",
      "63/63 - 1s - loss: 0.2920 - acc: 0.9097 - val_loss: 0.7657 - val_acc: 0.8510\n",
      "Epoch 34/100\n",
      "63/63 - 1s - loss: 0.2822 - acc: 0.9158 - val_loss: 0.7691 - val_acc: 0.8430\n",
      "Epoch 35/100\n",
      "63/63 - 2s - loss: 0.2870 - acc: 0.9105 - val_loss: 0.8139 - val_acc: 0.8350\n",
      "Epoch 36/100\n",
      "63/63 - 2s - loss: 0.2859 - acc: 0.9137 - val_loss: 0.7852 - val_acc: 0.8420\n",
      "Epoch 37/100\n",
      "63/63 - 2s - loss: 0.2587 - acc: 0.9233 - val_loss: 0.8083 - val_acc: 0.8540\n",
      "Epoch 38/100\n",
      "63/63 - 2s - loss: 0.2601 - acc: 0.9230 - val_loss: 0.8506 - val_acc: 0.8390\n",
      "Epoch 39/100\n",
      "63/63 - 1s - loss: 0.2553 - acc: 0.9202 - val_loss: 0.8374 - val_acc: 0.8340\n",
      "Epoch 40/100\n",
      "63/63 - 1s - loss: 0.2617 - acc: 0.9180 - val_loss: 0.8705 - val_acc: 0.8430\n",
      "Epoch 41/100\n",
      "63/63 - 1s - loss: 0.2387 - acc: 0.9265 - val_loss: 0.8255 - val_acc: 0.8500\n",
      "Epoch 42/100\n",
      "63/63 - 2s - loss: 0.2423 - acc: 0.9252 - val_loss: 0.8128 - val_acc: 0.8500\n",
      "Epoch 43/100\n",
      "63/63 - 1s - loss: 0.2277 - acc: 0.9320 - val_loss: 0.8238 - val_acc: 0.8460\n",
      "Epoch 44/100\n",
      "63/63 - 1s - loss: 0.2312 - acc: 0.9273 - val_loss: 0.8606 - val_acc: 0.8510\n",
      "Epoch 45/100\n",
      "63/63 - 1s - loss: 0.2191 - acc: 0.9345 - val_loss: 0.9061 - val_acc: 0.8480\n",
      "Epoch 46/100\n",
      "63/63 - 1s - loss: 0.2139 - acc: 0.9348 - val_loss: 0.8704 - val_acc: 0.8510\n",
      "Epoch 47/100\n",
      "63/63 - 1s - loss: 0.2126 - acc: 0.9340 - val_loss: 0.9275 - val_acc: 0.8420\n",
      "Epoch 48/100\n",
      "63/63 - 1s - loss: 0.2038 - acc: 0.9373 - val_loss: 0.8402 - val_acc: 0.8530\n",
      "Epoch 49/100\n",
      "63/63 - 1s - loss: 0.2138 - acc: 0.9315 - val_loss: 0.9218 - val_acc: 0.8450\n",
      "Epoch 50/100\n",
      "63/63 - 1s - loss: 0.2172 - acc: 0.9290 - val_loss: 0.9045 - val_acc: 0.8520\n",
      "Epoch 51/100\n",
      "63/63 - 1s - loss: 0.2072 - acc: 0.9383 - val_loss: 0.9035 - val_acc: 0.8470\n",
      "Epoch 52/100\n",
      "63/63 - 1s - loss: 0.1937 - acc: 0.9375 - val_loss: 0.9353 - val_acc: 0.8410\n",
      "Epoch 53/100\n",
      "63/63 - 1s - loss: 0.2019 - acc: 0.9333 - val_loss: 1.0091 - val_acc: 0.8420\n",
      "Epoch 54/100\n",
      "63/63 - 2s - loss: 0.2432 - acc: 0.9185 - val_loss: 0.9511 - val_acc: 0.8520\n",
      "Epoch 55/100\n",
      "63/63 - 1s - loss: 0.2079 - acc: 0.9398 - val_loss: 1.0007 - val_acc: 0.8470\n",
      "Epoch 56/100\n",
      "63/63 - 1s - loss: 0.1998 - acc: 0.9365 - val_loss: 0.9875 - val_acc: 0.8500\n",
      "Epoch 57/100\n",
      "63/63 - 1s - loss: 0.1885 - acc: 0.9438 - val_loss: 0.9208 - val_acc: 0.8540\n",
      "Epoch 58/100\n",
      "63/63 - 1s - loss: 0.1751 - acc: 0.9473 - val_loss: 0.9690 - val_acc: 0.8570\n",
      "Epoch 59/100\n",
      "63/63 - 1s - loss: 0.1864 - acc: 0.9435 - val_loss: 0.9845 - val_acc: 0.8540\n",
      "Epoch 60/100\n",
      "63/63 - 1s - loss: 0.1769 - acc: 0.9473 - val_loss: 0.9998 - val_acc: 0.8550\n",
      "Epoch 61/100\n",
      "63/63 - 1s - loss: 0.1727 - acc: 0.9485 - val_loss: 1.0049 - val_acc: 0.8500\n",
      "Epoch 62/100\n",
      "63/63 - 1s - loss: 0.1641 - acc: 0.9495 - val_loss: 0.9827 - val_acc: 0.8610\n",
      "Epoch 63/100\n",
      "63/63 - 1s - loss: 0.1577 - acc: 0.9538 - val_loss: 0.9650 - val_acc: 0.8630\n",
      "Epoch 64/100\n",
      "63/63 - 1s - loss: 0.1512 - acc: 0.9548 - val_loss: 0.9797 - val_acc: 0.8600\n",
      "Epoch 65/100\n",
      "63/63 - 1s - loss: 0.1750 - acc: 0.9455 - val_loss: 1.0745 - val_acc: 0.8470\n",
      "Epoch 66/100\n",
      "63/63 - 1s - loss: 0.1566 - acc: 0.9542 - val_loss: 1.0182 - val_acc: 0.8570\n",
      "Epoch 67/100\n",
      "63/63 - 1s - loss: 0.1619 - acc: 0.9495 - val_loss: 1.0318 - val_acc: 0.8650\n",
      "Epoch 68/100\n",
      "63/63 - 1s - loss: 0.1609 - acc: 0.9480 - val_loss: 1.0575 - val_acc: 0.8540\n",
      "Epoch 69/100\n",
      "63/63 - 1s - loss: 0.2300 - acc: 0.9308 - val_loss: 1.0206 - val_acc: 0.8490\n",
      "Epoch 70/100\n",
      "63/63 - 1s - loss: 0.1828 - acc: 0.9440 - val_loss: 1.0177 - val_acc: 0.8550\n",
      "Epoch 71/100\n",
      "63/63 - 1s - loss: 0.1638 - acc: 0.9485 - val_loss: 1.0281 - val_acc: 0.8570\n",
      "Epoch 72/100\n",
      "63/63 - 1s - loss: 0.1420 - acc: 0.9582 - val_loss: 1.0618 - val_acc: 0.8600\n",
      "Epoch 73/100\n",
      "63/63 - 1s - loss: 0.1345 - acc: 0.9603 - val_loss: 1.0600 - val_acc: 0.8620\n",
      "Epoch 74/100\n",
      "63/63 - 1s - loss: 0.1316 - acc: 0.9605 - val_loss: 1.1047 - val_acc: 0.8540\n",
      "Epoch 75/100\n",
      "63/63 - 1s - loss: 0.1283 - acc: 0.9647 - val_loss: 1.0974 - val_acc: 0.8610\n",
      "Epoch 76/100\n",
      "63/63 - 1s - loss: 0.1307 - acc: 0.9630 - val_loss: 1.0908 - val_acc: 0.8650\n",
      "Epoch 77/100\n",
      "63/63 - 1s - loss: 0.1482 - acc: 0.9553 - val_loss: 1.0809 - val_acc: 0.8540\n",
      "Epoch 78/100\n",
      "63/63 - 1s - loss: 0.1292 - acc: 0.9622 - val_loss: 1.0889 - val_acc: 0.8630\n",
      "Epoch 79/100\n",
      "63/63 - 1s - loss: 0.1268 - acc: 0.9617 - val_loss: 1.1006 - val_acc: 0.8580\n",
      "Epoch 80/100\n",
      "63/63 - 1s - loss: 0.1263 - acc: 0.9630 - val_loss: 1.0773 - val_acc: 0.8650\n",
      "Epoch 81/100\n",
      "63/63 - 1s - loss: 0.1240 - acc: 0.9600 - val_loss: 1.1190 - val_acc: 0.8620\n",
      "Epoch 82/100\n",
      "63/63 - 1s - loss: 0.1184 - acc: 0.9660 - val_loss: 1.1295 - val_acc: 0.8620\n",
      "Epoch 83/100\n",
      "63/63 - 1s - loss: 0.1240 - acc: 0.9613 - val_loss: 1.1458 - val_acc: 0.8590\n",
      "Epoch 84/100\n",
      "63/63 - 1s - loss: 0.1167 - acc: 0.9680 - val_loss: 1.1415 - val_acc: 0.8540\n",
      "Epoch 85/100\n",
      "63/63 - 1s - loss: 0.1274 - acc: 0.9588 - val_loss: 1.0966 - val_acc: 0.8690\n",
      "Epoch 86/100\n",
      "63/63 - 1s - loss: 0.1380 - acc: 0.9560 - val_loss: 1.3042 - val_acc: 0.8460\n",
      "Epoch 87/100\n",
      "63/63 - 1s - loss: 0.1991 - acc: 0.9398 - val_loss: 1.2456 - val_acc: 0.8570\n",
      "Epoch 88/100\n",
      "63/63 - 1s - loss: 0.1465 - acc: 0.9525 - val_loss: 1.1775 - val_acc: 0.8610\n",
      "Epoch 89/100\n",
      "63/63 - 1s - loss: 0.1198 - acc: 0.9640 - val_loss: 1.3534 - val_acc: 0.8440\n",
      "Epoch 90/100\n",
      "63/63 - 1s - loss: 0.1571 - acc: 0.9492 - val_loss: 1.2611 - val_acc: 0.8540\n",
      "Epoch 91/100\n",
      "63/63 - 1s - loss: 0.1257 - acc: 0.9603 - val_loss: 1.2471 - val_acc: 0.8580\n",
      "Epoch 92/100\n"
     ]
    },
    {
     "name": "stdout",
     "output_type": "stream",
     "text": [
      "63/63 - 1s - loss: 0.1080 - acc: 0.9703 - val_loss: 1.2672 - val_acc: 0.8600\n",
      "Epoch 93/100\n",
      "63/63 - 1s - loss: 0.1072 - acc: 0.9700 - val_loss: 1.2729 - val_acc: 0.8610\n",
      "Epoch 94/100\n",
      "63/63 - 1s - loss: 0.1037 - acc: 0.9712 - val_loss: 1.2538 - val_acc: 0.8660\n",
      "Epoch 95/100\n",
      "63/63 - 1s - loss: 0.1015 - acc: 0.9705 - val_loss: 1.2777 - val_acc: 0.8680\n",
      "Epoch 96/100\n",
      "63/63 - 1s - loss: 0.1356 - acc: 0.9625 - val_loss: 1.4573 - val_acc: 0.8510\n",
      "Epoch 97/100\n",
      "63/63 - 1s - loss: 0.2898 - acc: 0.9212 - val_loss: 1.4853 - val_acc: 0.8180\n",
      "Epoch 98/100\n",
      "63/63 - 1s - loss: 0.1884 - acc: 0.9380 - val_loss: 1.3249 - val_acc: 0.8380\n",
      "Epoch 99/100\n",
      "63/63 - 1s - loss: 0.1501 - acc: 0.9528 - val_loss: 1.2577 - val_acc: 0.8560\n",
      "Epoch 100/100\n",
      "63/63 - 1s - loss: 0.1087 - acc: 0.9695 - val_loss: 1.2592 - val_acc: 0.8620\n"
     ]
    }
   ],
   "source": [
    "# Entrenamiento del modelo\n",
    "history = model.fit(mfcc_x_train,y_train,epochs=100,batch_size=64,validation_data=(mfcc_x_test,y_test),verbose=2)"
   ]
  },
  {
   "cell_type": "code",
   "execution_count": 10,
   "metadata": {
    "colab": {
     "base_uri": "https://localhost:8080/",
     "height": 469
    },
    "executionInfo": {
     "elapsed": 504,
     "status": "ok",
     "timestamp": 1680286178692,
     "user": {
      "displayName": "Marcos David Saavedra",
      "userId": "00956491970482123385"
     },
     "user_tz": 180
    },
    "id": "E7WaEpBXoQMG",
    "outputId": "82688f84-3df2-4c5f-d306-e3e6e07b2394",
    "scrolled": true
   },
   "outputs": [
    {
     "data": {
      "text/plain": [
       "[<matplotlib.lines.Line2D at 0x131879695c8>]"
      ]
     },
     "execution_count": 10,
     "metadata": {},
     "output_type": "execute_result"
    },
    {
     "data": {
      "image/png": "[encoded data removed]",
      "text/plain": [
       "<Figure size 432x288 with 1 Axes>"
      ]
     },
     "metadata": {
      "needs_background": "light"
     },
     "output_type": "display_data"
    }
   ],
   "source": [
    "# Curvas accuracy\n",
    "plt.title(\"Val_acc: \"+str(history.history[\"val_acc\"][-1]))\n",
    "plt.plot(history.history[\"acc\"])\n",
    "plt.plot(history.history[\"val_acc\"])"
   ]
  },
  {
   "cell_type": "code",
   "execution_count": 11,
   "metadata": {
    "colab": {
     "base_uri": "https://localhost:8080/"
    },
    "executionInfo": {
     "elapsed": 382,
     "status": "ok",
     "timestamp": 1680286187283,
     "user": {
      "displayName": "Marcos David Saavedra",
      "userId": "00956491970482123385"
     },
     "user_tz": 180
    },
    "id": "PmrscqjRoQMH",
    "outputId": "1b7247ac-4dd9-4cbd-8e7e-7eb1e4b78704",
    "scrolled": false
   },
   "outputs": [
    {
     "name": "stdout",
     "output_type": "stream",
     "text": [
      "// Constantes autogeneradas: \n",
      "\n",
      "#ifndef N_FFT\n",
      "#define N_MELS 32\n",
      "#define N_FFT 256\n",
      "#define N_FMIN 0\n",
      "#define N_FMAX 0\n",
      "#define FRAME_LENGTH 5000\n",
      "#define SAMPLE_RATE 5000\n",
      "#define BLOCKS 19\n",
      "#define N_FFT_TABLE 128\n",
      "#define NOVERLAP 0\n",
      "#define STEP 256\n",
      "#define LEN_NFFT_NMELS 4\n",
      "#define SPEC_SIZE 608\n",
      "#define DELAY_US 200\n",
      "#endif\n",
      "\n"
     ]
    }
   ],
   "source": [
    "# Exportar parámetros de espectrograma a C\n",
    "inicio = ''\n",
    "fmin = fmax = 0\n",
    "step = n_fft - noverlap\n",
    "len_nfft_nmels = (n_fft//2)//n_mels\n",
    "print(f'''// Constantes autogeneradas: \n",
    "\n",
    "#ifndef {inicio}N_FFT\n",
    "#define {inicio}N_MELS {n_mels}\n",
    "#define {inicio}N_FFT {n_fft}\n",
    "#define {inicio}N_FMIN {fmin}\n",
    "#define {inicio}N_FMAX {fmax}\n",
    "#define {inicio}FRAME_LENGTH {largo}\n",
    "#define {inicio}SAMPLE_RATE {fs}\n",
    "#define {inicio}BLOCKS {bloques}\n",
    "#define {inicio}N_FFT_TABLE {int(n_fft/2)}\n",
    "#define {inicio}NOVERLAP {noverlap}\n",
    "#define {inicio}STEP {step}\n",
    "#define {inicio}LEN_NFFT_NMELS {len_nfft_nmels}\n",
    "#define {inicio}SPEC_SIZE {mfcc_x_test[0].flatten().shape[0]}\n",
    "#define {inicio}DELAY_US {int(1/fs*1000*1000)}\n",
    "#endif\n",
    "''')\n"
   ]
  },
  {
   "cell_type": "code",
   "execution_count": 12,
   "metadata": {
    "executionInfo": {
     "elapsed": 741,
     "status": "ok",
     "timestamp": 1680286194903,
     "user": {
      "displayName": "Marcos David Saavedra",
      "userId": "00956491970482123385"
     },
     "user_tz": 180
    },
    "id": "50MYHC52oQMI"
   },
   "outputs": [],
   "source": [
    "np.save(\"x_train.npy\", x_train)\n",
    "np.save(\"y_train.npy\", y_train)\n",
    "np.save(\"x_test.npy\", x_test)\n",
    "np.save(\"y_test.npy\", y_test)\n",
    "np.save(\"mfcc_x_train.npy\", mfcc_x_train)\n",
    "np.save(\"mfcc_x_test.npy\", mfcc_x_test)\n",
    "model.save(\"model.h5\")"
   ]
  },
  {
   "cell_type": "markdown",
   "metadata": {
    "id": "zvZsg7U1oQMJ"
   },
   "source": [
    "# Recuperar modelo y datos"
   ]
  },
  {
   "cell_type": "markdown",
   "metadata": {
    "id": "nxJDVSFvoQMK"
   },
   "source": [
    "## Recuperar modelo, datos de prueba y entrenamiento"
   ]
  },
  {
   "cell_type": "code",
   "execution_count": null,
   "metadata": {
    "id": "kxV3M23MoQML",
    "outputId": "8c825229-ab58-4d14-9fb1-8f07cc8de87c",
    "scrolled": true
   },
   "outputs": [
    {
     "name": "stdout",
     "output_type": "stream",
     "text": [
      "Model: \"sequential_15\"\n",
      "_________________________________________________________________\n",
      "Layer (type)                 Output Shape              Param #   \n",
      "=================================================================\n",
      "conv2d_30 (Conv2D)           (None, 15, 14, 8)         80        \n",
      "_________________________________________________________________\n",
      "max_pooling2d_16 (MaxPooling (None, 5, 4, 8)           0         \n",
      "_________________________________________________________________\n",
      "conv2d_31 (Conv2D)           (None, 4, 3, 16)          528       \n",
      "_________________________________________________________________\n",
      "flatten_15 (Flatten)         (None, 192)               0         \n",
      "_________________________________________________________________\n",
      "dense_40 (Dense)             (None, 16)                3088      \n",
      "_________________________________________________________________\n",
      "dense_41 (Dense)             (None, 10)                170       \n",
      "=================================================================\n",
      "Total params: 3,866\n",
      "Trainable params: 3,866\n",
      "Non-trainable params: 0\n",
      "_________________________________________________________________\n"
     ]
    }
   ],
   "source": [
    "from tensorflow.keras.models import load_model\n",
    "import numpy as np\n",
    "\n",
    "model = load_model('model.h5')\n",
    "model.summary()\n",
    "x_train = np.load('x_train.npy', allow_pickle=True)\n",
    "mfcc_x_train = np.load('mfcc_x_train.npy', allow_pickle=True)\n",
    "y_train = np.load('y_train.npy', allow_pickle=True)\n",
    "\n",
    "x_test = np.load('x_test.npy', allow_pickle=True)\n",
    "mfcc_x_test = np.load('mfcc_x_test.npy', allow_pickle=True)\n",
    "y_test = np.load('y_test.npy', allow_pickle=True)"
   ]
  },
  {
   "cell_type": "code",
   "execution_count": null,
   "metadata": {
    "id": "zggkFM53oQMM",
    "outputId": "73119cd9-c16d-40f8-f5af-c1c51f8cb6f2"
   },
   "outputs": [
    {
     "name": "stdout",
     "output_type": "stream",
     "text": [
      "19/19 [==============================] - 0s 3ms/step - loss: 0.6135 - acc: 0.8350\n"
     ]
    },
    {
     "data": {
      "text/plain": [
       "[0.6134818196296692, 0.8349999785423279]"
      ]
     },
     "execution_count": 5,
     "metadata": {},
     "output_type": "execute_result"
    }
   ],
   "source": [
    "model.evaluate(mfcc_x_test, y_test)"
   ]
  },
  {
   "cell_type": "markdown",
   "metadata": {
    "id": "lKa3qTsUoQMN"
   },
   "source": [
    "## Recuperar un dato del test"
   ]
  },
  {
   "cell_type": "code",
   "execution_count": 23,
   "metadata": {
    "executionInfo": {
     "elapsed": 4,
     "status": "ok",
     "timestamp": 1680286220404,
     "user": {
      "displayName": "Marcos David Saavedra",
      "userId": "00956491970482123385"
     },
     "user_tz": 180
    },
    "id": "z1Gza6croQMN"
   },
   "outputs": [],
   "source": [
    "import matplotlib.pyplot as plt\n",
    "import numpy as np\n",
    "\n",
    "dim_f = bloques\n",
    "dim_c = n_mels\n",
    "\n",
    "# Exportación a C\n",
    "def imprimir_entrada(entrada):\n",
    "    s=''\n",
    "    for i in entrada:\n",
    "        #i_string = f\"{i}, \"\n",
    "        i_string = \"%.7f, \" % (i)\n",
    "        s+=i_string\n",
    "    print(f'float input_data[] = {{\\n\\t{s[:-2]}\\n}};')\n",
    "\n",
    "# Función que usamos siempre modificada\n",
    "def visualizar_muestra(numero, repeticion, x_test, the_real_x_train, y_test, model, _imprimir_prediccion = 1, _imprimir_matriz = 0, _imprimir_vector = 0, _grafico_color = 0):\n",
    "    '''\n",
    "     Visualizar una muestra (imagen) e informacion adicional segun parametros\n",
    "     Recibe: \n",
    "            numero: Número a buscar\n",
    "            repeticion: Repetición dentro de x_test\n",
    "            x_test, y_test: vectores de dataset de prueba\n",
    "            model: necesario solo si _imprimir_prediccion = 1\n",
    "    '''\n",
    "\n",
    "    # Busqueda del número\n",
    "    n_muestra = np.where(y_test==numero)[0][repeticion]\n",
    "    muestra = x_test[n_muestra][:,:,:]\n",
    "\n",
    "  # Visualización de datos\n",
    "    if _imprimir_matriz:\n",
    "        print('Matriz\\n', muestra.reshape(dim_f,dim_c),'\\n')\n",
    "\n",
    "    if _imprimir_vector:\n",
    "        #print('Arreglo\\n', muestra.reshape(1,dim_f*dim_c),'\\n')\n",
    "        print(\"Arreglo\\n\")\n",
    "        imprimir_entrada(the_real_x_train[n_muestra].flatten())\n",
    "\n",
    "    muestra = np.reshape(muestra, (1,dim_f,dim_c,1))\n",
    "    \n",
    "    if _grafico_color:\n",
    "        plt.imshow(muestra[0,:,:,0])\n",
    "    else:\n",
    "        plt.imshow(muestra[0,:,:,0], cmap='gray')\n",
    "\n",
    "    if _imprimir_prediccion:\n",
    "        plt.title(f\"Clase: {commands[y_test[n_muestra]]} - Predicción: {commands[np.argmax(model.predict(np.reshape(x_test[n_muestra], ((1, )+ x_test[n_muestra].shape))))]}\")\n",
    "    else:\n",
    "        plt.title(f\"Clase: {commands[y_test[n_muestra]]}\")\n",
    "    \n",
    "    plt.show()"
   ]
  },
  {
   "cell_type": "code",
   "execution_count": 26,
   "metadata": {
    "colab": {
     "base_uri": "https://localhost:8080/",
     "height": 356
    },
    "executionInfo": {
     "elapsed": 14,
     "status": "error",
     "timestamp": 1680286223517,
     "user": {
      "displayName": "Marcos David Saavedra",
      "userId": "00956491970482123385"
     },
     "user_tz": 180
    },
    "id": "QvYBb0K8oQMN",
    "outputId": "116cc706-bf5d-4b2b-994c-1735e08f348c"
   },
   "outputs": [
    {
     "data": {
      "image/png": "[encoded data removed]",
      "text/plain": [
       "<Figure size 432x288 with 1 Axes>"
      ]
     },
     "metadata": {
      "needs_background": "light"
     },
     "output_type": "display_data"
    }
   ],
   "source": [
    "# Elección del número\n",
    "numero = 3\n",
    "repeticion = 1\n",
    "\n",
    "# Qué datos adicionales imprimir\n",
    "_imprimir_prediccion = 1\n",
    "_imprimir_matriz = 0\n",
    "_imprimir_vector = 0\n",
    "_grafico_color = 1\n",
    "visualizar_muestra(numero, repeticion, mfcc_x_test, x_test, y_test, model, _imprimir_prediccion, _imprimir_matriz, _imprimir_vector, _grafico_color)"
   ]
  },
  {
   "cell_type": "markdown",
   "metadata": {
    "id": "2SxfG75OoQMN"
   },
   "source": [
    "# Datos a C para espectrogramizarlos"
   ]
  },
  {
   "cell_type": "code",
   "execution_count": 28,
   "metadata": {
    "colab": {
     "base_uri": "https://localhost:8080/",
     "height": 235
    },
    "executionInfo": {
     "elapsed": 1237,
     "status": "error",
     "timestamp": 1680286244089,
     "user": {
      "displayName": "Marcos David Saavedra",
      "userId": "00956491970482123385"
     },
     "user_tz": 180
    },
    "id": "H0LjcPbRoQMO",
    "outputId": "98639679-fdb3-4a09-fdc0-ff9e9320196a"
   },
   "outputs": [
    {
     "data": {
      "image/png": "[encoded data removed]",
      "text/plain": [
       "<Figure size 432x288 with 1 Axes>"
      ]
     },
     "metadata": {
      "needs_background": "light"
     },
     "output_type": "display_data"
    }
   ],
   "source": [
    "# Busqueda del número\n",
    "numero = 2\n",
    "repeticion = 5\n",
    "\n",
    "# Graficar numero\n",
    "n_muestra = np.where(y_test==numero)[0][repeticion]\n",
    "muestra = x_test[n_muestra]\n",
    "grafico_librosa = mfcc_x_test[n_muestra][:,:,:]\n",
    "grafico_librosa = np.reshape(grafico_librosa, (1,dim_f,dim_c,1))\n",
    "plt.imshow(grafico_librosa[0,:,:,0])\n",
    "plt.title(f\"Espectrograma Librosa - shape = {muestra.shape} - {grafico_librosa.shape}\")\n",
    "plt.show()"
   ]
  },
  {
   "cell_type": "code",
   "execution_count": 38,
   "metadata": {
    "colab": {
     "base_uri": "https://localhost:8080/",
     "height": 217
    },
    "executionInfo": {
     "elapsed": 978,
     "status": "error",
     "timestamp": 1680286256703,
     "user": {
      "displayName": "Marcos David Saavedra",
      "userId": "00956491970482123385"
     },
     "user_tz": 180
    },
    "id": "LWb2bFCroQMO",
    "outputId": "0d488715-c2c1-4e8e-f656-fcfe5d124a60"
   },
   "outputs": [],
   "source": [
    "def dato_to_c(entrada):\n",
    "    s=''\n",
    "    for i in entrada:\n",
    "        #i_string = f\"{i}, \"\n",
    "        i_string = \"%.7f, \" % (i)\n",
    "        s+=i_string\n",
    "    #s+=f\"{{s}}, \\n\\n\"\n",
    "    return s[:-2]\n",
    "\n",
    "def save_to_file(filename, content):\n",
    "    file = open(filename, 'w') #guardar\n",
    "    file.write(content)\n",
    "    file.close()    \n",
    "\n",
    "filename = 'audio'\n",
    "datos_en_c=f'float input_data[] = {{\\n\\t{dato_to_c(muestra)}\\n}};'\n",
    "save_to_file(filename+'.h', datos_en_c)"
   ]
  },
  {
   "cell_type": "markdown",
   "metadata": {
    "id": "qOHBBaD6oQMS"
   },
   "source": [
    "Todo terminó"
   ]
  }
 ],
 "metadata": {
  "accelerator": "GPU",
  "colab": {
   "collapsed_sections": [
    "HoToxhvpoQMQ"
   ],
   "provenance": []
  },
  "interpreter": {
   "hash": "8f774ea1718885481f1afbebb13190cd56d756968ddd2a7acc41115bede1d390"
  },
  "kernelspec": {
   "display_name": "Python 3",
   "language": "python",
   "name": "python3"
  },
  "language_info": {
   "codemirror_mode": {
    "name": "ipython",
    "version": 3
   },
   "file_extension": ".py",
   "mimetype": "text/x-python",
   "name": "python",
   "nbconvert_exporter": "python",
   "pygments_lexer": "ipython3",
   "version": "3.7.6"
  }
 },
 "nbformat": 4,
 "nbformat_minor": 1
}
